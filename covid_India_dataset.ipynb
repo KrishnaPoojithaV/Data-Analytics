{
 "cells": [
  {
   "cell_type": "code",
   "execution_count": 1,
   "metadata": {},
   "outputs": [],
   "source": [
    "import numpy as np\n",
    "import pandas as pd\n",
    "import matplotlib.pyplot as plt\n",
    "%matplotlib inline\n",
    "import seaborn as sns"
   ]
  },
  {
   "cell_type": "code",
   "execution_count": 2,
   "metadata": {},
   "outputs": [
    {
     "data": {
      "text/html": [
       "<div>\n",
       "<style scoped>\n",
       "    .dataframe tbody tr th:only-of-type {\n",
       "        vertical-align: middle;\n",
       "    }\n",
       "\n",
       "    .dataframe tbody tr th {\n",
       "        vertical-align: top;\n",
       "    }\n",
       "\n",
       "    .dataframe thead th {\n",
       "        text-align: right;\n",
       "    }\n",
       "</style>\n",
       "<table border=\"1\" class=\"dataframe\">\n",
       "  <thead>\n",
       "    <tr style=\"text-align: right;\">\n",
       "      <th></th>\n",
       "      <th>Sno</th>\n",
       "      <th>Date</th>\n",
       "      <th>Time</th>\n",
       "      <th>State/UnionTerritory</th>\n",
       "      <th>ConfirmedIndianNational</th>\n",
       "      <th>ConfirmedForeignNational</th>\n",
       "      <th>Cured</th>\n",
       "      <th>Deaths</th>\n",
       "      <th>Confirmed</th>\n",
       "    </tr>\n",
       "  </thead>\n",
       "  <tbody>\n",
       "    <tr>\n",
       "      <th>0</th>\n",
       "      <td>1</td>\n",
       "      <td>30/01/20</td>\n",
       "      <td>6:00 PM</td>\n",
       "      <td>Kerala</td>\n",
       "      <td>1</td>\n",
       "      <td>0</td>\n",
       "      <td>0</td>\n",
       "      <td>0</td>\n",
       "      <td>1</td>\n",
       "    </tr>\n",
       "    <tr>\n",
       "      <th>1</th>\n",
       "      <td>2</td>\n",
       "      <td>31/01/20</td>\n",
       "      <td>6:00 PM</td>\n",
       "      <td>Kerala</td>\n",
       "      <td>1</td>\n",
       "      <td>0</td>\n",
       "      <td>0</td>\n",
       "      <td>0</td>\n",
       "      <td>1</td>\n",
       "    </tr>\n",
       "    <tr>\n",
       "      <th>2</th>\n",
       "      <td>3</td>\n",
       "      <td>01/02/20</td>\n",
       "      <td>6:00 PM</td>\n",
       "      <td>Kerala</td>\n",
       "      <td>2</td>\n",
       "      <td>0</td>\n",
       "      <td>0</td>\n",
       "      <td>0</td>\n",
       "      <td>2</td>\n",
       "    </tr>\n",
       "    <tr>\n",
       "      <th>3</th>\n",
       "      <td>4</td>\n",
       "      <td>02/02/20</td>\n",
       "      <td>6:00 PM</td>\n",
       "      <td>Kerala</td>\n",
       "      <td>3</td>\n",
       "      <td>0</td>\n",
       "      <td>0</td>\n",
       "      <td>0</td>\n",
       "      <td>3</td>\n",
       "    </tr>\n",
       "    <tr>\n",
       "      <th>4</th>\n",
       "      <td>5</td>\n",
       "      <td>03/02/20</td>\n",
       "      <td>6:00 PM</td>\n",
       "      <td>Kerala</td>\n",
       "      <td>3</td>\n",
       "      <td>0</td>\n",
       "      <td>0</td>\n",
       "      <td>0</td>\n",
       "      <td>3</td>\n",
       "    </tr>\n",
       "  </tbody>\n",
       "</table>\n",
       "</div>"
      ],
      "text/plain": [
       "   Sno      Date     Time State/UnionTerritory ConfirmedIndianNational  \\\n",
       "0    1  30/01/20  6:00 PM               Kerala                       1   \n",
       "1    2  31/01/20  6:00 PM               Kerala                       1   \n",
       "2    3  01/02/20  6:00 PM               Kerala                       2   \n",
       "3    4  02/02/20  6:00 PM               Kerala                       3   \n",
       "4    5  03/02/20  6:00 PM               Kerala                       3   \n",
       "\n",
       "  ConfirmedForeignNational  Cured  Deaths  Confirmed  \n",
       "0                        0      0       0          1  \n",
       "1                        0      0       0          1  \n",
       "2                        0      0       0          2  \n",
       "3                        0      0       0          3  \n",
       "4                        0      0       0          3  "
      ]
     },
     "execution_count": 2,
     "metadata": {},
     "output_type": "execute_result"
    }
   ],
   "source": [
    "df = pd.read_csv(\"covid_19_india.csv\")\n",
    "df.head()"
   ]
  },
  {
   "cell_type": "markdown",
   "metadata": {},
   "source": [
    "### Information about attributes of dataset"
   ]
  },
  {
   "cell_type": "code",
   "execution_count": 3,
   "metadata": {},
   "outputs": [
    {
     "name": "stdout",
     "output_type": "stream",
     "text": [
      "<class 'pandas.core.frame.DataFrame'>\n",
      "RangeIndex: 9291 entries, 0 to 9290\n",
      "Data columns (total 9 columns):\n",
      " #   Column                    Non-Null Count  Dtype \n",
      "---  ------                    --------------  ----- \n",
      " 0   Sno                       9291 non-null   int64 \n",
      " 1   Date                      9291 non-null   object\n",
      " 2   Time                      9291 non-null   object\n",
      " 3   State/UnionTerritory      9291 non-null   object\n",
      " 4   ConfirmedIndianNational   9291 non-null   object\n",
      " 5   ConfirmedForeignNational  9291 non-null   object\n",
      " 6   Cured                     9291 non-null   int64 \n",
      " 7   Deaths                    9291 non-null   int64 \n",
      " 8   Confirmed                 9291 non-null   int64 \n",
      "dtypes: int64(4), object(5)\n",
      "memory usage: 653.4+ KB\n"
     ]
    }
   ],
   "source": [
    "df.info()"
   ]
  },
  {
   "cell_type": "code",
   "execution_count": 4,
   "metadata": {},
   "outputs": [
    {
     "data": {
      "text/plain": [
       "9291"
      ]
     },
     "execution_count": 4,
     "metadata": {},
     "output_type": "execute_result"
    }
   ],
   "source": [
    "df['Sno'].nunique()"
   ]
  },
  {
   "cell_type": "code",
   "execution_count": 5,
   "metadata": {},
   "outputs": [
    {
     "data": {
      "text/plain": [
       "315"
      ]
     },
     "execution_count": 5,
     "metadata": {},
     "output_type": "execute_result"
    }
   ],
   "source": [
    "df['Date'].nunique()"
   ]
  },
  {
   "cell_type": "code",
   "execution_count": 6,
   "metadata": {},
   "outputs": [
    {
     "data": {
      "text/plain": [
       "array(['6:00 PM', '10:00 AM', '7:30 PM', '9:30 PM', '8:30 PM', '5:00 PM',\n",
       "       '8:00 AM'], dtype=object)"
      ]
     },
     "execution_count": 6,
     "metadata": {},
     "output_type": "execute_result"
    }
   ],
   "source": [
    "df['Time'].unique()"
   ]
  },
  {
   "cell_type": "code",
   "execution_count": 7,
   "metadata": {},
   "outputs": [
    {
     "data": {
      "text/plain": [
       "array(['Kerala', 'Telengana', 'Delhi', 'Rajasthan', 'Uttar Pradesh',\n",
       "       'Haryana', 'Ladakh', 'Tamil Nadu', 'Karnataka', 'Maharashtra',\n",
       "       'Punjab', 'Jammu and Kashmir', 'Andhra Pradesh', 'Uttarakhand',\n",
       "       'Odisha', 'Puducherry', 'West Bengal', 'Chhattisgarh',\n",
       "       'Chandigarh', 'Gujarat', 'Himachal Pradesh', 'Madhya Pradesh',\n",
       "       'Bihar', 'Manipur', 'Mizoram', 'Andaman and Nicobar Islands',\n",
       "       'Goa', 'Unassigned', 'Assam', 'Jharkhand', 'Arunachal Pradesh',\n",
       "       'Tripura', 'Nagaland', 'Meghalaya', 'Dadar Nagar Haveli',\n",
       "       'Cases being reassigned to states', 'Sikkim', 'Daman & Diu',\n",
       "       'Dadra and Nagar Haveli and Daman and Diu', 'Telangana',\n",
       "       'Telangana***', 'Telengana***', 'Maharashtra***', 'Chandigarh***',\n",
       "       'Punjab***'], dtype=object)"
      ]
     },
     "execution_count": 7,
     "metadata": {},
     "output_type": "execute_result"
    }
   ],
   "source": [
    "df['State/UnionTerritory'].unique()"
   ]
  },
  {
   "cell_type": "code",
   "execution_count": 8,
   "metadata": {},
   "outputs": [
    {
     "data": {
      "text/plain": [
       "array(['1', '2', '3', '0', '6', '7', '8', '9', '4', '15', '5', '17', '10',\n",
       "       '11', '19', '14', '22', '32', '12', '23', '24', '36', '25', '39',\n",
       "       '44', '18', '16', '26', '49', '33', '60', '13', '28', '45', '64',\n",
       "       '21', '29', '71', '30', '37', '87', '86', '41', '101', '125', '34',\n",
       "       '35', '42', '55', '110', '20', '121', '40', '129', '127', '38',\n",
       "       '168', '177', '52', '46', '54', '-'], dtype=object)"
      ]
     },
     "execution_count": 8,
     "metadata": {},
     "output_type": "execute_result"
    }
   ],
   "source": [
    "df['ConfirmedIndianNational'].unique()"
   ]
  },
  {
   "cell_type": "code",
   "execution_count": 9,
   "metadata": {},
   "outputs": [
    {
     "data": {
      "text/plain": [
       "array(['0', '1', '2', '14', '3', '9', '7', '11', '10', '8', '6', '-'],\n",
       "      dtype=object)"
      ]
     },
     "execution_count": 9,
     "metadata": {},
     "output_type": "execute_result"
    }
   ],
   "source": [
    "df['ConfirmedForeignNational'].unique()"
   ]
  },
  {
   "cell_type": "code",
   "execution_count": 10,
   "metadata": {},
   "outputs": [
    {
     "data": {
      "text/plain": [
       "6329"
      ]
     },
     "execution_count": 10,
     "metadata": {},
     "output_type": "execute_result"
    }
   ],
   "source": [
    "df['Cured'].nunique()"
   ]
  },
  {
   "cell_type": "code",
   "execution_count": 11,
   "metadata": {},
   "outputs": [
    {
     "data": {
      "text/plain": [
       "2746"
      ]
     },
     "execution_count": 11,
     "metadata": {},
     "output_type": "execute_result"
    }
   ],
   "source": [
    "df['Deaths'].nunique()"
   ]
  },
  {
   "cell_type": "code",
   "execution_count": 12,
   "metadata": {},
   "outputs": [
    {
     "data": {
      "text/plain": [
       "6878"
      ]
     },
     "execution_count": 12,
     "metadata": {},
     "output_type": "execute_result"
    }
   ],
   "source": [
    "df['Confirmed'].nunique()"
   ]
  },
  {
   "cell_type": "markdown",
   "metadata": {},
   "source": [
    "## Frequency Distributions"
   ]
  },
  {
   "cell_type": "code",
   "execution_count": 13,
   "metadata": {},
   "outputs": [
    {
     "name": "stdout",
     "output_type": "stream",
     "text": [
      "Daywise distribution\n"
     ]
    },
    {
     "data": {
      "text/html": [
       "<div>\n",
       "<style scoped>\n",
       "    .dataframe tbody tr th:only-of-type {\n",
       "        vertical-align: middle;\n",
       "    }\n",
       "\n",
       "    .dataframe tbody tr th {\n",
       "        vertical-align: top;\n",
       "    }\n",
       "\n",
       "    .dataframe thead th {\n",
       "        text-align: right;\n",
       "    }\n",
       "</style>\n",
       "<table border=\"1\" class=\"dataframe\">\n",
       "  <thead>\n",
       "    <tr style=\"text-align: right;\">\n",
       "      <th></th>\n",
       "      <th>Cured</th>\n",
       "      <th>Deaths</th>\n",
       "      <th>Confirmed</th>\n",
       "    </tr>\n",
       "    <tr>\n",
       "      <th>Date</th>\n",
       "      <th></th>\n",
       "      <th></th>\n",
       "      <th></th>\n",
       "    </tr>\n",
       "  </thead>\n",
       "  <tbody>\n",
       "    <tr>\n",
       "      <th>01/02/20</th>\n",
       "      <td>0.0</td>\n",
       "      <td>0.0</td>\n",
       "      <td>2.0</td>\n",
       "    </tr>\n",
       "    <tr>\n",
       "      <th>01/03/20</th>\n",
       "      <td>0.0</td>\n",
       "      <td>0.0</td>\n",
       "      <td>3.0</td>\n",
       "    </tr>\n",
       "    <tr>\n",
       "      <th>01/04/20</th>\n",
       "      <td>144.0</td>\n",
       "      <td>41.0</td>\n",
       "      <td>1834.0</td>\n",
       "    </tr>\n",
       "    <tr>\n",
       "      <th>01/05/20</th>\n",
       "      <td>9065.0</td>\n",
       "      <td>1152.0</td>\n",
       "      <td>34972.0</td>\n",
       "    </tr>\n",
       "    <tr>\n",
       "      <th>01/06/20</th>\n",
       "      <td>91819.0</td>\n",
       "      <td>5394.0</td>\n",
       "      <td>190535.0</td>\n",
       "    </tr>\n",
       "    <tr>\n",
       "      <th>...</th>\n",
       "      <td>...</td>\n",
       "      <td>...</td>\n",
       "      <td>...</td>\n",
       "    </tr>\n",
       "    <tr>\n",
       "      <th>31/03/20</th>\n",
       "      <td>124.0</td>\n",
       "      <td>35.0</td>\n",
       "      <td>1397.0</td>\n",
       "    </tr>\n",
       "    <tr>\n",
       "      <th>31/05/20</th>\n",
       "      <td>86984.0</td>\n",
       "      <td>5164.0</td>\n",
       "      <td>182143.0</td>\n",
       "    </tr>\n",
       "    <tr>\n",
       "      <th>31/07/20</th>\n",
       "      <td>1057805.0</td>\n",
       "      <td>35747.0</td>\n",
       "      <td>1638870.0</td>\n",
       "    </tr>\n",
       "    <tr>\n",
       "      <th>31/08/20</th>\n",
       "      <td>2774801.0</td>\n",
       "      <td>64469.0</td>\n",
       "      <td>3621245.0</td>\n",
       "    </tr>\n",
       "    <tr>\n",
       "      <th>31/10/20</th>\n",
       "      <td>7432829.0</td>\n",
       "      <td>121641.0</td>\n",
       "      <td>8137119.0</td>\n",
       "    </tr>\n",
       "  </tbody>\n",
       "</table>\n",
       "<p>315 rows × 3 columns</p>\n",
       "</div>"
      ],
      "text/plain": [
       "              Cured    Deaths  Confirmed\n",
       "Date                                    \n",
       "01/02/20        0.0       0.0        2.0\n",
       "01/03/20        0.0       0.0        3.0\n",
       "01/04/20      144.0      41.0     1834.0\n",
       "01/05/20     9065.0    1152.0    34972.0\n",
       "01/06/20    91819.0    5394.0   190535.0\n",
       "...             ...       ...        ...\n",
       "31/03/20      124.0      35.0     1397.0\n",
       "31/05/20    86984.0    5164.0   182143.0\n",
       "31/07/20  1057805.0   35747.0  1638870.0\n",
       "31/08/20  2774801.0   64469.0  3621245.0\n",
       "31/10/20  7432829.0  121641.0  8137119.0\n",
       "\n",
       "[315 rows x 3 columns]"
      ]
     },
     "execution_count": 13,
     "metadata": {},
     "output_type": "execute_result"
    }
   ],
   "source": [
    "print(\"Daywise distribution\")\n",
    "df.groupby('Date').agg(np.sum).agg(np.ceil).drop('Sno',axis=1)"
   ]
  },
  {
   "cell_type": "code",
   "execution_count": 14,
   "metadata": {},
   "outputs": [
    {
     "name": "stdout",
     "output_type": "stream",
     "text": [
      "Statewise Frequencies of datapoints\n"
     ]
    },
    {
     "data": {
      "text/plain": [
       "State/UnionTerritory\n",
       "Andaman and Nicobar Islands                 259.0\n",
       "Andhra Pradesh                              273.0\n",
       "Arunachal Pradesh                           251.0\n",
       "Assam                                       253.0\n",
       "Bihar                                       263.0\n",
       "Cases being reassigned to states             60.0\n",
       "Chandigarh                                  265.0\n",
       "Chandigarh***                                 1.0\n",
       "Chhattisgarh                                266.0\n",
       "Dadar Nagar Haveli                           37.0\n",
       "Dadra and Nagar Haveli and Daman and Diu    181.0\n",
       "Daman & Diu                                   1.0\n",
       "Delhi                                       283.0\n",
       "Goa                                         259.0\n",
       "Gujarat                                     265.0\n",
       "Haryana                                     281.0\n",
       "Himachal Pradesh                            264.0\n",
       "Jammu and Kashmir                           276.0\n",
       "Jharkhand                                   253.0\n",
       "Karnataka                                   276.0\n",
       "Kerala                                      315.0\n",
       "Ladakh                                      278.0\n",
       "Madhya Pradesh                              264.0\n",
       "Maharashtra                                 275.0\n",
       "Maharashtra***                                1.0\n",
       "Manipur                                     261.0\n",
       "Meghalaya                                   240.0\n",
       "Mizoram                                     260.0\n",
       "Nagaland                                    207.0\n",
       "Odisha                                      269.0\n",
       "Puducherry                                  267.0\n",
       "Punjab                                      275.0\n",
       "Punjab***                                     1.0\n",
       "Rajasthan                                   282.0\n",
       "Sikkim                                      200.0\n",
       "Tamil Nadu                                  278.0\n",
       "Telangana                                    45.0\n",
       "Telangana***                                  1.0\n",
       "Telengana                                   236.0\n",
       "Telengana***                                  1.0\n",
       "Tripura                                     247.0\n",
       "Unassigned                                    3.0\n",
       "Uttar Pradesh                               281.0\n",
       "Uttarakhand                                 270.0\n",
       "West Bengal                                 267.0\n",
       "Name: Sno, dtype: float64"
      ]
     },
     "execution_count": 14,
     "metadata": {},
     "output_type": "execute_result"
    }
   ],
   "source": [
    "print(\"Statewise Frequencies of datapoints\")\n",
    "df.groupby('State/UnionTerritory').agg(np.size).agg(np.ceil)['Sno']"
   ]
  },
  {
   "cell_type": "markdown",
   "metadata": {},
   "source": [
    "## Graphical Representations"
   ]
  },
  {
   "cell_type": "code",
   "execution_count": 15,
   "metadata": {},
   "outputs": [
    {
     "data": {
      "text/plain": [
       "Text(0.5, 1.0, 'Frequency occurance of Time')"
      ]
     },
     "execution_count": 15,
     "metadata": {},
     "output_type": "execute_result"
    },
    {
     "data": {
      "image/png": "[encoded data removed]",
      "text/plain": [
       "<Figure size 720x432 with 1 Axes>"
      ]
     },
     "metadata": {
      "needs_background": "light"
     },
     "output_type": "display_data"
    }
   ],
   "source": [
    "plt.figure(figsize=(10,6))\n",
    "sns.histplot(x='Time',data=df)\n",
    "plt.title('Frequency occurance of Time')"
   ]
  },
  {
   "cell_type": "code",
   "execution_count": 16,
   "metadata": {},
   "outputs": [
    {
     "data": {
      "text/plain": [
       "Text(0.5, 1.0, 'Frequency of number of Indian National Cases')"
      ]
     },
     "execution_count": 16,
     "metadata": {},
     "output_type": "execute_result"
    },
    {
     "data": {
      "image/png": "[encoded data removed]",
      "text/plain": [
       "<Figure size 1440x432 with 1 Axes>"
      ]
     },
     "metadata": {
      "needs_background": "light"
     },
     "output_type": "display_data"
    }
   ],
   "source": [
    "plt.figure(figsize=(20,6))\n",
    "sns.histplot(x='ConfirmedIndianNational',data=df)\n",
    "plt.title('Frequency of number of Indian National Cases')"
   ]
  },
  {
   "cell_type": "code",
   "execution_count": 17,
   "metadata": {},
   "outputs": [
    {
     "data": {
      "text/plain": [
       "Text(0.5, 1.0, 'Frequency of number of Foreign National Cases')"
      ]
     },
     "execution_count": 17,
     "metadata": {},
     "output_type": "execute_result"
    },
    {
     "data": {
      "image/png": "[encoded data removed]",
      "text/plain": [
       "<Figure size 720x432 with 1 Axes>"
      ]
     },
     "metadata": {
      "needs_background": "light"
     },
     "output_type": "display_data"
    }
   ],
   "source": [
    "plt.figure(figsize=(10,6))\n",
    "sns.histplot(x='ConfirmedForeignNational',data=df)\n",
    "plt.title('Frequency of number of Foreign National Cases')"
   ]
  },
  {
   "cell_type": "code",
   "execution_count": 18,
   "metadata": {},
   "outputs": [
    {
     "data": {
      "text/plain": [
       "Text(0.5, 1.0, 'Frequency of datapoints - Statewise')"
      ]
     },
     "execution_count": 18,
     "metadata": {},
     "output_type": "execute_result"
    },
    {
     "data": {
      "image/png": "[encoded data removed]",
      "text/plain": [
       "<Figure size 1440x432 with 1 Axes>"
      ]
     },
     "metadata": {
      "needs_background": "light"
     },
     "output_type": "display_data"
    }
   ],
   "source": [
    "plt.figure(figsize=(20,6))\n",
    "plt.hist(df['State/UnionTerritory'],bins=45,rwidth=0.9)\n",
    "plt.xticks(rotation='vertical')\n",
    "plt.ylabel('Number of Observations')\n",
    "plt.title('Frequency of datapoints - Statewise')"
   ]
  },
  {
   "cell_type": "code",
   "execution_count": 19,
   "metadata": {},
   "outputs": [
    {
     "data": {
      "text/plain": [
       "Text(0.5, 1.0, 'State wise cases of COVID-19 India')"
      ]
     },
     "execution_count": 19,
     "metadata": {},
     "output_type": "execute_result"
    },
    {
     "data": {
      "image/png": "[encoded data removed]",
      "text/plain": [
       "<Figure size 1440x432 with 1 Axes>"
      ]
     },
     "metadata": {
      "needs_background": "light"
     },
     "output_type": "display_data"
    }
   ],
   "source": [
    "plt.figure(figsize=(20,6))\n",
    "plt.bar(df['State/UnionTerritory'],df['Confirmed'],label='Confirmed Cases')\n",
    "plt.bar(df['State/UnionTerritory'],df['Cured'],label='Cured Cases')\n",
    "plt.legend(loc='best')\n",
    "plt.ylabel('Number of cases')\n",
    "plt.xticks(rotation='vertical')\n",
    "plt.title('State wise cases of COVID-19 India')"
   ]
  },
  {
   "cell_type": "code",
   "execution_count": 20,
   "metadata": {},
   "outputs": [
    {
     "data": {
      "text/plain": [
       "Text(0.5, 1.0, 'Deaths due to COVID-19')"
      ]
     },
     "execution_count": 20,
     "metadata": {},
     "output_type": "execute_result"
    },
    {
     "data": {
      "image/png": "[encoded data removed]",
      "text/plain": [
       "<Figure size 1440x432 with 1 Axes>"
      ]
     },
     "metadata": {
      "needs_background": "light"
     },
     "output_type": "display_data"
    }
   ],
   "source": [
    "plt.figure(figsize=(20,6))\n",
    "sns.boxplot(x='State/UnionTerritory',y='Deaths',data=df)\n",
    "plt.xticks(rotation='vertical')\n",
    "plt.title('Deaths due to COVID-19')"
   ]
  },
  {
   "cell_type": "code",
   "execution_count": 21,
   "metadata": {},
   "outputs": [
    {
     "data": {
      "text/plain": [
       "Text(0.5, 1.0, 'Confirmed cases of top 5 states of COVID-19 India')"
      ]
     },
     "execution_count": 21,
     "metadata": {},
     "output_type": "execute_result"
    },
    {
     "data": {
      "image/png": "[encoded data removed]",
      "text/plain": [
       "<Figure size 1440x432 with 1 Axes>"
      ]
     },
     "metadata": {
      "needs_background": "light"
     },
     "output_type": "display_data"
    }
   ],
   "source": [
    "plt.figure(figsize=(20,6))\n",
    "sns.lineplot(x = df[df['State/UnionTerritory']=='Maharashtra']['Date'],y = df[df['State/UnionTerritory']=='Maharashtra']['Confirmed'],label='Maharashtra')\n",
    "sns.lineplot(x = df[df['State/UnionTerritory']=='Karnataka']['Date'],y = df[df['State/UnionTerritory']=='Karnataka']['Confirmed'],label='Karnataka')\n",
    "sns.lineplot(x = df[df['State/UnionTerritory']=='Andhra Pradesh']['Date'],y = df[df['State/UnionTerritory']=='Andhra Pradesh']['Confirmed'],label='Andhra Pradesh')\n",
    "sns.lineplot(x = df[df['State/UnionTerritory']=='Tamil Nadu']['Date'],y = df[df['State/UnionTerritory']=='Tamil Nadu']['Confirmed'],label='Tamil Nadu')\n",
    "sns.lineplot(x = df[df['State/UnionTerritory']=='Kerala']['Date'],y = df[df['State/UnionTerritory']=='Kerala']['Confirmed'],label='Kerala')\n",
    "plt.legend(loc='upper left')\n",
    "plt.xticks([])\n",
    "plt.title('Confirmed cases of top 5 states of COVID-19 India')    # observed from the bargraph"
   ]
  },
  {
   "cell_type": "markdown",
   "metadata": {},
   "source": [
    "## Summary statistics of data"
   ]
  },
  {
   "cell_type": "code",
   "execution_count": 22,
   "metadata": {},
   "outputs": [
    {
     "name": "stdout",
     "output_type": "stream",
     "text": [
      "Summary statistics of numerical attributes\n"
     ]
    },
    {
     "data": {
      "text/html": [
       "<div>\n",
       "<style scoped>\n",
       "    .dataframe tbody tr th:only-of-type {\n",
       "        vertical-align: middle;\n",
       "    }\n",
       "\n",
       "    .dataframe tbody tr th {\n",
       "        vertical-align: top;\n",
       "    }\n",
       "\n",
       "    .dataframe thead th {\n",
       "        text-align: right;\n",
       "    }\n",
       "</style>\n",
       "<table border=\"1\" class=\"dataframe\">\n",
       "  <thead>\n",
       "    <tr style=\"text-align: right;\">\n",
       "      <th></th>\n",
       "      <th>Sno</th>\n",
       "      <th>Cured</th>\n",
       "      <th>Deaths</th>\n",
       "      <th>Confirmed</th>\n",
       "    </tr>\n",
       "  </thead>\n",
       "  <tbody>\n",
       "    <tr>\n",
       "      <th>count</th>\n",
       "      <td>9291.000000</td>\n",
       "      <td>9.291000e+03</td>\n",
       "      <td>9291.000000</td>\n",
       "      <td>9.291000e+03</td>\n",
       "    </tr>\n",
       "    <tr>\n",
       "      <th>mean</th>\n",
       "      <td>4646.000000</td>\n",
       "      <td>7.863266e+04</td>\n",
       "      <td>1487.620385</td>\n",
       "      <td>9.183978e+04</td>\n",
       "    </tr>\n",
       "    <tr>\n",
       "      <th>std</th>\n",
       "      <td>2682.225009</td>\n",
       "      <td>1.931102e+05</td>\n",
       "      <td>4713.813690</td>\n",
       "      <td>2.166014e+05</td>\n",
       "    </tr>\n",
       "    <tr>\n",
       "      <th>min</th>\n",
       "      <td>1.000000</td>\n",
       "      <td>0.000000e+00</td>\n",
       "      <td>0.000000</td>\n",
       "      <td>0.000000e+00</td>\n",
       "    </tr>\n",
       "    <tr>\n",
       "      <th>25%</th>\n",
       "      <td>2323.500000</td>\n",
       "      <td>1.520000e+02</td>\n",
       "      <td>2.000000</td>\n",
       "      <td>5.385000e+02</td>\n",
       "    </tr>\n",
       "    <tr>\n",
       "      <th>50%</th>\n",
       "      <td>4646.000000</td>\n",
       "      <td>4.308000e+03</td>\n",
       "      <td>66.000000</td>\n",
       "      <td>6.832000e+03</td>\n",
       "    </tr>\n",
       "    <tr>\n",
       "      <th>75%</th>\n",
       "      <td>6968.500000</td>\n",
       "      <td>5.772650e+04</td>\n",
       "      <td>926.500000</td>\n",
       "      <td>7.885600e+04</td>\n",
       "    </tr>\n",
       "    <tr>\n",
       "      <th>max</th>\n",
       "      <td>9291.000000</td>\n",
       "      <td>1.737080e+06</td>\n",
       "      <td>47827.000000</td>\n",
       "      <td>1.859367e+06</td>\n",
       "    </tr>\n",
       "  </tbody>\n",
       "</table>\n",
       "</div>"
      ],
      "text/plain": [
       "               Sno         Cured        Deaths     Confirmed\n",
       "count  9291.000000  9.291000e+03   9291.000000  9.291000e+03\n",
       "mean   4646.000000  7.863266e+04   1487.620385  9.183978e+04\n",
       "std    2682.225009  1.931102e+05   4713.813690  2.166014e+05\n",
       "min       1.000000  0.000000e+00      0.000000  0.000000e+00\n",
       "25%    2323.500000  1.520000e+02      2.000000  5.385000e+02\n",
       "50%    4646.000000  4.308000e+03     66.000000  6.832000e+03\n",
       "75%    6968.500000  5.772650e+04    926.500000  7.885600e+04\n",
       "max    9291.000000  1.737080e+06  47827.000000  1.859367e+06"
      ]
     },
     "execution_count": 22,
     "metadata": {},
     "output_type": "execute_result"
    }
   ],
   "source": [
    "print(\"Summary statistics of numerical attributes\")\n",
    "df.describe()"
   ]
  },
  {
   "cell_type": "code",
   "execution_count": 23,
   "metadata": {},
   "outputs": [
    {
     "name": "stdout",
     "output_type": "stream",
     "text": [
      "Summary statistics of non-numerical attributes\n"
     ]
    },
    {
     "data": {
      "text/html": [
       "<div>\n",
       "<style scoped>\n",
       "    .dataframe tbody tr th:only-of-type {\n",
       "        vertical-align: middle;\n",
       "    }\n",
       "\n",
       "    .dataframe tbody tr th {\n",
       "        vertical-align: top;\n",
       "    }\n",
       "\n",
       "    .dataframe thead th {\n",
       "        text-align: right;\n",
       "    }\n",
       "</style>\n",
       "<table border=\"1\" class=\"dataframe\">\n",
       "  <thead>\n",
       "    <tr style=\"text-align: right;\">\n",
       "      <th></th>\n",
       "      <th>Date</th>\n",
       "      <th>Time</th>\n",
       "      <th>State/UnionTerritory</th>\n",
       "      <th>ConfirmedIndianNational</th>\n",
       "      <th>ConfirmedForeignNational</th>\n",
       "    </tr>\n",
       "  </thead>\n",
       "  <tbody>\n",
       "    <tr>\n",
       "      <th>count</th>\n",
       "      <td>9291</td>\n",
       "      <td>9291</td>\n",
       "      <td>9291</td>\n",
       "      <td>9291</td>\n",
       "      <td>9291</td>\n",
       "    </tr>\n",
       "    <tr>\n",
       "      <th>unique</th>\n",
       "      <td>315</td>\n",
       "      <td>7</td>\n",
       "      <td>45</td>\n",
       "      <td>62</td>\n",
       "      <td>12</td>\n",
       "    </tr>\n",
       "    <tr>\n",
       "      <th>top</th>\n",
       "      <td>11/06/20</td>\n",
       "      <td>8:00 AM</td>\n",
       "      <td>Kerala</td>\n",
       "      <td>-</td>\n",
       "      <td>-</td>\n",
       "    </tr>\n",
       "    <tr>\n",
       "      <th>freq</th>\n",
       "      <td>37</td>\n",
       "      <td>7653</td>\n",
       "      <td>315</td>\n",
       "      <td>8845</td>\n",
       "      <td>8845</td>\n",
       "    </tr>\n",
       "  </tbody>\n",
       "</table>\n",
       "</div>"
      ],
      "text/plain": [
       "            Date     Time State/UnionTerritory ConfirmedIndianNational  \\\n",
       "count       9291     9291                 9291                    9291   \n",
       "unique       315        7                   45                      62   \n",
       "top     11/06/20  8:00 AM               Kerala                       -   \n",
       "freq          37     7653                  315                    8845   \n",
       "\n",
       "       ConfirmedForeignNational  \n",
       "count                      9291  \n",
       "unique                       12  \n",
       "top                           -  \n",
       "freq                       8845  "
      ]
     },
     "execution_count": 23,
     "metadata": {},
     "output_type": "execute_result"
    }
   ],
   "source": [
    "print(\"Summary statistics of non-numerical attributes\")\n",
    "df.describe(include=['object'])"
   ]
  },
  {
   "cell_type": "code",
   "execution_count": 24,
   "metadata": {},
   "outputs": [
    {
     "name": "stdout",
     "output_type": "stream",
     "text": [
      "Statewise Summary statistics of confirmed cases\n"
     ]
    },
    {
     "data": {
      "text/html": [
       "<div>\n",
       "<style scoped>\n",
       "    .dataframe tbody tr th:only-of-type {\n",
       "        vertical-align: middle;\n",
       "    }\n",
       "\n",
       "    .dataframe tbody tr th {\n",
       "        vertical-align: top;\n",
       "    }\n",
       "\n",
       "    .dataframe thead tr th {\n",
       "        text-align: left;\n",
       "    }\n",
       "\n",
       "    .dataframe thead tr:last-of-type th {\n",
       "        text-align: right;\n",
       "    }\n",
       "</style>\n",
       "<table border=\"1\" class=\"dataframe\">\n",
       "  <thead>\n",
       "    <tr>\n",
       "      <th></th>\n",
       "      <th colspan=\"8\" halign=\"left\">Confirmed</th>\n",
       "    </tr>\n",
       "    <tr>\n",
       "      <th></th>\n",
       "      <th>count</th>\n",
       "      <th>mean</th>\n",
       "      <th>std</th>\n",
       "      <th>min</th>\n",
       "      <th>25%</th>\n",
       "      <th>50%</th>\n",
       "      <th>75%</th>\n",
       "      <th>max</th>\n",
       "    </tr>\n",
       "    <tr>\n",
       "      <th>State/UnionTerritory</th>\n",
       "      <th></th>\n",
       "      <th></th>\n",
       "      <th></th>\n",
       "      <th></th>\n",
       "      <th></th>\n",
       "      <th></th>\n",
       "      <th></th>\n",
       "      <th></th>\n",
       "    </tr>\n",
       "  </thead>\n",
       "  <tbody>\n",
       "    <tr>\n",
       "      <th>Andaman and Nicobar Islands</th>\n",
       "      <td>259.0</td>\n",
       "      <td>1.867803e+03</td>\n",
       "      <td>1928.325207</td>\n",
       "      <td>1.0</td>\n",
       "      <td>33.00</td>\n",
       "      <td>636.0</td>\n",
       "      <td>3891.50</td>\n",
       "      <td>4778.0</td>\n",
       "    </tr>\n",
       "    <tr>\n",
       "      <th>Andhra Pradesh</th>\n",
       "      <td>273.0</td>\n",
       "      <td>3.106788e+05</td>\n",
       "      <td>349426.361965</td>\n",
       "      <td>1.0</td>\n",
       "      <td>2474.00</td>\n",
       "      <td>88671.0</td>\n",
       "      <td>700235.00</td>\n",
       "      <td>872839.0</td>\n",
       "    </tr>\n",
       "    <tr>\n",
       "      <th>Arunachal Pradesh</th>\n",
       "      <td>251.0</td>\n",
       "      <td>5.235406e+03</td>\n",
       "      <td>6203.396331</td>\n",
       "      <td>1.0</td>\n",
       "      <td>40.00</td>\n",
       "      <td>1855.0</td>\n",
       "      <td>11137.00</td>\n",
       "      <td>16437.0</td>\n",
       "    </tr>\n",
       "    <tr>\n",
       "      <th>Assam</th>\n",
       "      <td>253.0</td>\n",
       "      <td>8.578491e+04</td>\n",
       "      <td>86957.346874</td>\n",
       "      <td>1.0</td>\n",
       "      <td>1513.00</td>\n",
       "      <td>48161.0</td>\n",
       "      <td>188902.00</td>\n",
       "      <td>214019.0</td>\n",
       "    </tr>\n",
       "    <tr>\n",
       "      <th>Bihar</th>\n",
       "      <td>263.0</td>\n",
       "      <td>9.084177e+04</td>\n",
       "      <td>92050.961811</td>\n",
       "      <td>2.0</td>\n",
       "      <td>2856.50</td>\n",
       "      <td>48477.0</td>\n",
       "      <td>187304.50</td>\n",
       "      <td>239322.0</td>\n",
       "    </tr>\n",
       "    <tr>\n",
       "      <th>Cases being reassigned to states</th>\n",
       "      <td>60.0</td>\n",
       "      <td>5.759417e+03</td>\n",
       "      <td>2695.966040</td>\n",
       "      <td>163.0</td>\n",
       "      <td>3863.75</td>\n",
       "      <td>6623.0</td>\n",
       "      <td>8048.00</td>\n",
       "      <td>9265.0</td>\n",
       "    </tr>\n",
       "    <tr>\n",
       "      <th>Chandigarh</th>\n",
       "      <td>265.0</td>\n",
       "      <td>5.237275e+03</td>\n",
       "      <td>6410.531291</td>\n",
       "      <td>1.0</td>\n",
       "      <td>225.00</td>\n",
       "      <td>934.0</td>\n",
       "      <td>12212.00</td>\n",
       "      <td>18239.0</td>\n",
       "    </tr>\n",
       "    <tr>\n",
       "      <th>Chandigarh***</th>\n",
       "      <td>1.0</td>\n",
       "      <td>1.563600e+04</td>\n",
       "      <td>NaN</td>\n",
       "      <td>15636.0</td>\n",
       "      <td>15636.00</td>\n",
       "      <td>15636.0</td>\n",
       "      <td>15636.00</td>\n",
       "      <td>15636.0</td>\n",
       "    </tr>\n",
       "    <tr>\n",
       "      <th>Chhattisgarh</th>\n",
       "      <td>266.0</td>\n",
       "      <td>6.034439e+04</td>\n",
       "      <td>82743.015763</td>\n",
       "      <td>1.0</td>\n",
       "      <td>223.50</td>\n",
       "      <td>8398.0</td>\n",
       "      <td>120747.50</td>\n",
       "      <td>249699.0</td>\n",
       "    </tr>\n",
       "    <tr>\n",
       "      <th>Dadar Nagar Haveli</th>\n",
       "      <td>37.0</td>\n",
       "      <td>5.027027e+00</td>\n",
       "      <td>7.365409</td>\n",
       "      <td>1.0</td>\n",
       "      <td>1.00</td>\n",
       "      <td>2.0</td>\n",
       "      <td>3.00</td>\n",
       "      <td>26.0</td>\n",
       "    </tr>\n",
       "    <tr>\n",
       "      <th>Dadra and Nagar Haveli and Daman and Diu</th>\n",
       "      <td>181.0</td>\n",
       "      <td>2.124961e+03</td>\n",
       "      <td>1211.047886</td>\n",
       "      <td>30.0</td>\n",
       "      <td>914.00</td>\n",
       "      <td>2643.0</td>\n",
       "      <td>3225.00</td>\n",
       "      <td>3351.0</td>\n",
       "    </tr>\n",
       "    <tr>\n",
       "      <th>Daman &amp; Diu</th>\n",
       "      <td>1.0</td>\n",
       "      <td>2.000000e+00</td>\n",
       "      <td>NaN</td>\n",
       "      <td>2.0</td>\n",
       "      <td>2.00</td>\n",
       "      <td>2.0</td>\n",
       "      <td>2.00</td>\n",
       "      <td>2.0</td>\n",
       "    </tr>\n",
       "    <tr>\n",
       "      <th>Delhi</th>\n",
       "      <td>283.0</td>\n",
       "      <td>1.641201e+05</td>\n",
       "      <td>173514.813853</td>\n",
       "      <td>1.0</td>\n",
       "      <td>7078.00</td>\n",
       "      <td>123747.0</td>\n",
       "      <td>274711.50</td>\n",
       "      <td>597112.0</td>\n",
       "    </tr>\n",
       "    <tr>\n",
       "      <th>Goa</th>\n",
       "      <td>259.0</td>\n",
       "      <td>1.640441e+04</td>\n",
       "      <td>18353.045866</td>\n",
       "      <td>3.0</td>\n",
       "      <td>69.00</td>\n",
       "      <td>6193.0</td>\n",
       "      <td>35523.50</td>\n",
       "      <td>48935.0</td>\n",
       "    </tr>\n",
       "    <tr>\n",
       "      <th>Gujarat</th>\n",
       "      <td>265.0</td>\n",
       "      <td>7.844852e+04</td>\n",
       "      <td>70088.524887</td>\n",
       "      <td>5.0</td>\n",
       "      <td>14056.00</td>\n",
       "      <td>59126.0</td>\n",
       "      <td>141236.00</td>\n",
       "      <td>221493.0</td>\n",
       "    </tr>\n",
       "    <tr>\n",
       "      <th>Haryana</th>\n",
       "      <td>281.0</td>\n",
       "      <td>6.427333e+04</td>\n",
       "      <td>76020.200288</td>\n",
       "      <td>2.0</td>\n",
       "      <td>780.00</td>\n",
       "      <td>27462.0</td>\n",
       "      <td>126974.00</td>\n",
       "      <td>246679.0</td>\n",
       "    </tr>\n",
       "    <tr>\n",
       "      <th>Himachal Pradesh</th>\n",
       "      <td>264.0</td>\n",
       "      <td>8.918261e+03</td>\n",
       "      <td>12039.421214</td>\n",
       "      <td>2.0</td>\n",
       "      <td>218.00</td>\n",
       "      <td>2454.5</td>\n",
       "      <td>15734.00</td>\n",
       "      <td>46201.0</td>\n",
       "    </tr>\n",
       "    <tr>\n",
       "      <th>Jammu and Kashmir</th>\n",
       "      <td>276.0</td>\n",
       "      <td>3.576270e+04</td>\n",
       "      <td>39667.978709</td>\n",
       "      <td>1.0</td>\n",
       "      <td>1094.00</td>\n",
       "      <td>16605.5</td>\n",
       "      <td>75343.25</td>\n",
       "      <td>114038.0</td>\n",
       "    </tr>\n",
       "    <tr>\n",
       "      <th>Jharkhand</th>\n",
       "      <td>253.0</td>\n",
       "      <td>3.917822e+04</td>\n",
       "      <td>43442.811011</td>\n",
       "      <td>1.0</td>\n",
       "      <td>712.00</td>\n",
       "      <td>13940.0</td>\n",
       "      <td>88873.00</td>\n",
       "      <td>110639.0</td>\n",
       "    </tr>\n",
       "    <tr>\n",
       "      <th>Karnataka</th>\n",
       "      <td>276.0</td>\n",
       "      <td>2.875172e+05</td>\n",
       "      <td>339269.102954</td>\n",
       "      <td>1.0</td>\n",
       "      <td>1083.00</td>\n",
       "      <td>83366.5</td>\n",
       "      <td>604284.50</td>\n",
       "      <td>895284.0</td>\n",
       "    </tr>\n",
       "    <tr>\n",
       "      <th>Kerala</th>\n",
       "      <td>315.0</td>\n",
       "      <td>1.155780e+05</td>\n",
       "      <td>189182.108074</td>\n",
       "      <td>1.0</td>\n",
       "      <td>395.50</td>\n",
       "      <td>5204.0</td>\n",
       "      <td>137176.00</td>\n",
       "      <td>644696.0</td>\n",
       "    </tr>\n",
       "    <tr>\n",
       "      <th>Ladakh</th>\n",
       "      <td>278.0</td>\n",
       "      <td>2.447982e+03</td>\n",
       "      <td>2740.997147</td>\n",
       "      <td>2.0</td>\n",
       "      <td>43.00</td>\n",
       "      <td>1208.0</td>\n",
       "      <td>4250.50</td>\n",
       "      <td>8969.0</td>\n",
       "    </tr>\n",
       "    <tr>\n",
       "      <th>Madhya Pradesh</th>\n",
       "      <td>264.0</td>\n",
       "      <td>6.645696e+04</td>\n",
       "      <td>71763.708584</td>\n",
       "      <td>4.0</td>\n",
       "      <td>6810.50</td>\n",
       "      <td>30551.0</td>\n",
       "      <td>134348.00</td>\n",
       "      <td>217302.0</td>\n",
       "    </tr>\n",
       "    <tr>\n",
       "      <th>Maharashtra</th>\n",
       "      <td>275.0</td>\n",
       "      <td>6.525477e+05</td>\n",
       "      <td>682209.822295</td>\n",
       "      <td>2.0</td>\n",
       "      <td>29903.00</td>\n",
       "      <td>347502.0</td>\n",
       "      <td>1375287.50</td>\n",
       "      <td>1859367.0</td>\n",
       "    </tr>\n",
       "    <tr>\n",
       "      <th>Maharashtra***</th>\n",
       "      <td>1.0</td>\n",
       "      <td>1.723135e+06</td>\n",
       "      <td>NaN</td>\n",
       "      <td>1723135.0</td>\n",
       "      <td>1723135.00</td>\n",
       "      <td>1723135.0</td>\n",
       "      <td>1723135.00</td>\n",
       "      <td>1723135.0</td>\n",
       "    </tr>\n",
       "    <tr>\n",
       "      <th>Manipur</th>\n",
       "      <td>261.0</td>\n",
       "      <td>6.852728e+03</td>\n",
       "      <td>8212.218944</td>\n",
       "      <td>1.0</td>\n",
       "      <td>44.00</td>\n",
       "      <td>2621.0</td>\n",
       "      <td>11855.00</td>\n",
       "      <td>26396.0</td>\n",
       "    </tr>\n",
       "    <tr>\n",
       "      <th>Meghalaya</th>\n",
       "      <td>240.0</td>\n",
       "      <td>3.541142e+03</td>\n",
       "      <td>4233.800145</td>\n",
       "      <td>1.0</td>\n",
       "      <td>44.00</td>\n",
       "      <td>1125.0</td>\n",
       "      <td>7427.00</td>\n",
       "      <td>12410.0</td>\n",
       "    </tr>\n",
       "    <tr>\n",
       "      <th>Mizoram</th>\n",
       "      <td>260.0</td>\n",
       "      <td>1.094542e+03</td>\n",
       "      <td>1271.516567</td>\n",
       "      <td>1.0</td>\n",
       "      <td>1.00</td>\n",
       "      <td>440.0</td>\n",
       "      <td>2122.00</td>\n",
       "      <td>3977.0</td>\n",
       "    </tr>\n",
       "    <tr>\n",
       "      <th>Nagaland</th>\n",
       "      <td>207.0</td>\n",
       "      <td>4.438430e+03</td>\n",
       "      <td>3825.525345</td>\n",
       "      <td>0.0</td>\n",
       "      <td>625.00</td>\n",
       "      <td>3784.0</td>\n",
       "      <td>7757.00</td>\n",
       "      <td>11479.0</td>\n",
       "    </tr>\n",
       "    <tr>\n",
       "      <th>Odisha</th>\n",
       "      <td>269.0</td>\n",
       "      <td>1.018419e+05</td>\n",
       "      <td>121793.675259</td>\n",
       "      <td>1.0</td>\n",
       "      <td>1103.00</td>\n",
       "      <td>26892.0</td>\n",
       "      <td>226334.00</td>\n",
       "      <td>321913.0</td>\n",
       "    </tr>\n",
       "    <tr>\n",
       "      <th>Puducherry</th>\n",
       "      <td>267.0</td>\n",
       "      <td>1.248915e+04</td>\n",
       "      <td>14696.242206</td>\n",
       "      <td>1.0</td>\n",
       "      <td>26.00</td>\n",
       "      <td>3011.0</td>\n",
       "      <td>28643.00</td>\n",
       "      <td>37311.0</td>\n",
       "    </tr>\n",
       "    <tr>\n",
       "      <th>Punjab</th>\n",
       "      <td>275.0</td>\n",
       "      <td>4.850647e+04</td>\n",
       "      <td>57276.372378</td>\n",
       "      <td>1.0</td>\n",
       "      <td>1940.50</td>\n",
       "      <td>11739.0</td>\n",
       "      <td>113173.00</td>\n",
       "      <td>157331.0</td>\n",
       "    </tr>\n",
       "    <tr>\n",
       "      <th>Punjab***</th>\n",
       "      <td>1.0</td>\n",
       "      <td>1.406050e+05</td>\n",
       "      <td>NaN</td>\n",
       "      <td>140605.0</td>\n",
       "      <td>140605.00</td>\n",
       "      <td>140605.0</td>\n",
       "      <td>140605.00</td>\n",
       "      <td>140605.0</td>\n",
       "    </tr>\n",
       "    <tr>\n",
       "      <th>Rajasthan</th>\n",
       "      <td>282.0</td>\n",
       "      <td>7.426044e+04</td>\n",
       "      <td>85501.132532</td>\n",
       "      <td>1.0</td>\n",
       "      <td>4022.50</td>\n",
       "      <td>30881.5</td>\n",
       "      <td>132582.00</td>\n",
       "      <td>284116.0</td>\n",
       "    </tr>\n",
       "    <tr>\n",
       "      <th>Sikkim</th>\n",
       "      <td>200.0</td>\n",
       "      <td>1.998835e+03</td>\n",
       "      <td>1758.914474</td>\n",
       "      <td>1.0</td>\n",
       "      <td>152.50</td>\n",
       "      <td>1639.5</td>\n",
       "      <td>3611.50</td>\n",
       "      <td>5215.0</td>\n",
       "    </tr>\n",
       "    <tr>\n",
       "      <th>Tamil Nadu</th>\n",
       "      <td>278.0</td>\n",
       "      <td>2.978041e+05</td>\n",
       "      <td>296131.949423</td>\n",
       "      <td>1.0</td>\n",
       "      <td>9782.50</td>\n",
       "      <td>189728.0</td>\n",
       "      <td>596187.25</td>\n",
       "      <td>792788.0</td>\n",
       "    </tr>\n",
       "    <tr>\n",
       "      <th>Telangana</th>\n",
       "      <td>45.0</td>\n",
       "      <td>2.393738e+04</td>\n",
       "      <td>16234.606075</td>\n",
       "      <td>4320.0</td>\n",
       "      <td>8674.00</td>\n",
       "      <td>20462.0</td>\n",
       "      <td>37745.00</td>\n",
       "      <td>54059.0</td>\n",
       "    </tr>\n",
       "    <tr>\n",
       "      <th>Telangana***</th>\n",
       "      <td>1.0</td>\n",
       "      <td>5.246600e+04</td>\n",
       "      <td>NaN</td>\n",
       "      <td>52466.0</td>\n",
       "      <td>52466.00</td>\n",
       "      <td>52466.0</td>\n",
       "      <td>52466.00</td>\n",
       "      <td>52466.0</td>\n",
       "    </tr>\n",
       "    <tr>\n",
       "      <th>Telengana</th>\n",
       "      <td>236.0</td>\n",
       "      <td>1.054495e+05</td>\n",
       "      <td>104721.183173</td>\n",
       "      <td>1.0</td>\n",
       "      <td>1012.00</td>\n",
       "      <td>87435.5</td>\n",
       "      <td>212318.25</td>\n",
       "      <td>275261.0</td>\n",
       "    </tr>\n",
       "    <tr>\n",
       "      <th>Telengana***</th>\n",
       "      <td>1.0</td>\n",
       "      <td>5.714200e+04</td>\n",
       "      <td>NaN</td>\n",
       "      <td>57142.0</td>\n",
       "      <td>57142.00</td>\n",
       "      <td>57142.0</td>\n",
       "      <td>57142.00</td>\n",
       "      <td>57142.0</td>\n",
       "    </tr>\n",
       "    <tr>\n",
       "      <th>Tripura</th>\n",
       "      <td>247.0</td>\n",
       "      <td>1.249132e+04</td>\n",
       "      <td>13041.651034</td>\n",
       "      <td>1.0</td>\n",
       "      <td>773.50</td>\n",
       "      <td>5999.0</td>\n",
       "      <td>27870.50</td>\n",
       "      <td>32945.0</td>\n",
       "    </tr>\n",
       "    <tr>\n",
       "      <th>Unassigned</th>\n",
       "      <td>3.0</td>\n",
       "      <td>5.366667e+01</td>\n",
       "      <td>20.599353</td>\n",
       "      <td>38.0</td>\n",
       "      <td>42.00</td>\n",
       "      <td>46.0</td>\n",
       "      <td>61.50</td>\n",
       "      <td>77.0</td>\n",
       "    </tr>\n",
       "    <tr>\n",
       "      <th>Uttar Pradesh</th>\n",
       "      <td>281.0</td>\n",
       "      <td>1.789460e+05</td>\n",
       "      <td>204163.644909</td>\n",
       "      <td>6.0</td>\n",
       "      <td>3664.00</td>\n",
       "      <td>53288.0</td>\n",
       "      <td>394856.00</td>\n",
       "      <td>558173.0</td>\n",
       "    </tr>\n",
       "    <tr>\n",
       "      <th>Uttarakhand</th>\n",
       "      <td>270.0</td>\n",
       "      <td>2.249272e+04</td>\n",
       "      <td>27099.023792</td>\n",
       "      <td>1.0</td>\n",
       "      <td>128.00</td>\n",
       "      <td>6216.0</td>\n",
       "      <td>49481.25</td>\n",
       "      <td>79141.0</td>\n",
       "    </tr>\n",
       "    <tr>\n",
       "      <th>West Bengal</th>\n",
       "      <td>267.0</td>\n",
       "      <td>1.436327e+05</td>\n",
       "      <td>163250.981847</td>\n",
       "      <td>1.0</td>\n",
       "      <td>3395.50</td>\n",
       "      <td>62964.0</td>\n",
       "      <td>265304.00</td>\n",
       "      <td>507995.0</td>\n",
       "    </tr>\n",
       "  </tbody>\n",
       "</table>\n",
       "</div>"
      ],
      "text/plain": [
       "                                         Confirmed                \\\n",
       "                                             count          mean   \n",
       "State/UnionTerritory                                               \n",
       "Andaman and Nicobar Islands                  259.0  1.867803e+03   \n",
       "Andhra Pradesh                               273.0  3.106788e+05   \n",
       "Arunachal Pradesh                            251.0  5.235406e+03   \n",
       "Assam                                        253.0  8.578491e+04   \n",
       "Bihar                                        263.0  9.084177e+04   \n",
       "Cases being reassigned to states              60.0  5.759417e+03   \n",
       "Chandigarh                                   265.0  5.237275e+03   \n",
       "Chandigarh***                                  1.0  1.563600e+04   \n",
       "Chhattisgarh                                 266.0  6.034439e+04   \n",
       "Dadar Nagar Haveli                            37.0  5.027027e+00   \n",
       "Dadra and Nagar Haveli and Daman and Diu     181.0  2.124961e+03   \n",
       "Daman & Diu                                    1.0  2.000000e+00   \n",
       "Delhi                                        283.0  1.641201e+05   \n",
       "Goa                                          259.0  1.640441e+04   \n",
       "Gujarat                                      265.0  7.844852e+04   \n",
       "Haryana                                      281.0  6.427333e+04   \n",
       "Himachal Pradesh                             264.0  8.918261e+03   \n",
       "Jammu and Kashmir                            276.0  3.576270e+04   \n",
       "Jharkhand                                    253.0  3.917822e+04   \n",
       "Karnataka                                    276.0  2.875172e+05   \n",
       "Kerala                                       315.0  1.155780e+05   \n",
       "Ladakh                                       278.0  2.447982e+03   \n",
       "Madhya Pradesh                               264.0  6.645696e+04   \n",
       "Maharashtra                                  275.0  6.525477e+05   \n",
       "Maharashtra***                                 1.0  1.723135e+06   \n",
       "Manipur                                      261.0  6.852728e+03   \n",
       "Meghalaya                                    240.0  3.541142e+03   \n",
       "Mizoram                                      260.0  1.094542e+03   \n",
       "Nagaland                                     207.0  4.438430e+03   \n",
       "Odisha                                       269.0  1.018419e+05   \n",
       "Puducherry                                   267.0  1.248915e+04   \n",
       "Punjab                                       275.0  4.850647e+04   \n",
       "Punjab***                                      1.0  1.406050e+05   \n",
       "Rajasthan                                    282.0  7.426044e+04   \n",
       "Sikkim                                       200.0  1.998835e+03   \n",
       "Tamil Nadu                                   278.0  2.978041e+05   \n",
       "Telangana                                     45.0  2.393738e+04   \n",
       "Telangana***                                   1.0  5.246600e+04   \n",
       "Telengana                                    236.0  1.054495e+05   \n",
       "Telengana***                                   1.0  5.714200e+04   \n",
       "Tripura                                      247.0  1.249132e+04   \n",
       "Unassigned                                     3.0  5.366667e+01   \n",
       "Uttar Pradesh                                281.0  1.789460e+05   \n",
       "Uttarakhand                                  270.0  2.249272e+04   \n",
       "West Bengal                                  267.0  1.436327e+05   \n",
       "\n",
       "                                                                    \\\n",
       "                                                    std        min   \n",
       "State/UnionTerritory                                                 \n",
       "Andaman and Nicobar Islands                 1928.325207        1.0   \n",
       "Andhra Pradesh                            349426.361965        1.0   \n",
       "Arunachal Pradesh                           6203.396331        1.0   \n",
       "Assam                                      86957.346874        1.0   \n",
       "Bihar                                      92050.961811        2.0   \n",
       "Cases being reassigned to states            2695.966040      163.0   \n",
       "Chandigarh                                  6410.531291        1.0   \n",
       "Chandigarh***                                       NaN    15636.0   \n",
       "Chhattisgarh                               82743.015763        1.0   \n",
       "Dadar Nagar Haveli                             7.365409        1.0   \n",
       "Dadra and Nagar Haveli and Daman and Diu    1211.047886       30.0   \n",
       "Daman & Diu                                         NaN        2.0   \n",
       "Delhi                                     173514.813853        1.0   \n",
       "Goa                                        18353.045866        3.0   \n",
       "Gujarat                                    70088.524887        5.0   \n",
       "Haryana                                    76020.200288        2.0   \n",
       "Himachal Pradesh                           12039.421214        2.0   \n",
       "Jammu and Kashmir                          39667.978709        1.0   \n",
       "Jharkhand                                  43442.811011        1.0   \n",
       "Karnataka                                 339269.102954        1.0   \n",
       "Kerala                                    189182.108074        1.0   \n",
       "Ladakh                                      2740.997147        2.0   \n",
       "Madhya Pradesh                             71763.708584        4.0   \n",
       "Maharashtra                               682209.822295        2.0   \n",
       "Maharashtra***                                      NaN  1723135.0   \n",
       "Manipur                                     8212.218944        1.0   \n",
       "Meghalaya                                   4233.800145        1.0   \n",
       "Mizoram                                     1271.516567        1.0   \n",
       "Nagaland                                    3825.525345        0.0   \n",
       "Odisha                                    121793.675259        1.0   \n",
       "Puducherry                                 14696.242206        1.0   \n",
       "Punjab                                     57276.372378        1.0   \n",
       "Punjab***                                           NaN   140605.0   \n",
       "Rajasthan                                  85501.132532        1.0   \n",
       "Sikkim                                      1758.914474        1.0   \n",
       "Tamil Nadu                                296131.949423        1.0   \n",
       "Telangana                                  16234.606075     4320.0   \n",
       "Telangana***                                        NaN    52466.0   \n",
       "Telengana                                 104721.183173        1.0   \n",
       "Telengana***                                        NaN    57142.0   \n",
       "Tripura                                    13041.651034        1.0   \n",
       "Unassigned                                    20.599353       38.0   \n",
       "Uttar Pradesh                             204163.644909        6.0   \n",
       "Uttarakhand                                27099.023792        1.0   \n",
       "West Bengal                               163250.981847        1.0   \n",
       "\n",
       "                                                                             \\\n",
       "                                                 25%        50%         75%   \n",
       "State/UnionTerritory                                                          \n",
       "Andaman and Nicobar Islands                    33.00      636.0     3891.50   \n",
       "Andhra Pradesh                               2474.00    88671.0   700235.00   \n",
       "Arunachal Pradesh                              40.00     1855.0    11137.00   \n",
       "Assam                                        1513.00    48161.0   188902.00   \n",
       "Bihar                                        2856.50    48477.0   187304.50   \n",
       "Cases being reassigned to states             3863.75     6623.0     8048.00   \n",
       "Chandigarh                                    225.00      934.0    12212.00   \n",
       "Chandigarh***                               15636.00    15636.0    15636.00   \n",
       "Chhattisgarh                                  223.50     8398.0   120747.50   \n",
       "Dadar Nagar Haveli                              1.00        2.0        3.00   \n",
       "Dadra and Nagar Haveli and Daman and Diu      914.00     2643.0     3225.00   \n",
       "Daman & Diu                                     2.00        2.0        2.00   \n",
       "Delhi                                        7078.00   123747.0   274711.50   \n",
       "Goa                                            69.00     6193.0    35523.50   \n",
       "Gujarat                                     14056.00    59126.0   141236.00   \n",
       "Haryana                                       780.00    27462.0   126974.00   \n",
       "Himachal Pradesh                              218.00     2454.5    15734.00   \n",
       "Jammu and Kashmir                            1094.00    16605.5    75343.25   \n",
       "Jharkhand                                     712.00    13940.0    88873.00   \n",
       "Karnataka                                    1083.00    83366.5   604284.50   \n",
       "Kerala                                        395.50     5204.0   137176.00   \n",
       "Ladakh                                         43.00     1208.0     4250.50   \n",
       "Madhya Pradesh                               6810.50    30551.0   134348.00   \n",
       "Maharashtra                                 29903.00   347502.0  1375287.50   \n",
       "Maharashtra***                            1723135.00  1723135.0  1723135.00   \n",
       "Manipur                                        44.00     2621.0    11855.00   \n",
       "Meghalaya                                      44.00     1125.0     7427.00   \n",
       "Mizoram                                         1.00      440.0     2122.00   \n",
       "Nagaland                                      625.00     3784.0     7757.00   \n",
       "Odisha                                       1103.00    26892.0   226334.00   \n",
       "Puducherry                                     26.00     3011.0    28643.00   \n",
       "Punjab                                       1940.50    11739.0   113173.00   \n",
       "Punjab***                                  140605.00   140605.0   140605.00   \n",
       "Rajasthan                                    4022.50    30881.5   132582.00   \n",
       "Sikkim                                        152.50     1639.5     3611.50   \n",
       "Tamil Nadu                                   9782.50   189728.0   596187.25   \n",
       "Telangana                                    8674.00    20462.0    37745.00   \n",
       "Telangana***                                52466.00    52466.0    52466.00   \n",
       "Telengana                                    1012.00    87435.5   212318.25   \n",
       "Telengana***                                57142.00    57142.0    57142.00   \n",
       "Tripura                                       773.50     5999.0    27870.50   \n",
       "Unassigned                                     42.00       46.0       61.50   \n",
       "Uttar Pradesh                                3664.00    53288.0   394856.00   \n",
       "Uttarakhand                                   128.00     6216.0    49481.25   \n",
       "West Bengal                                  3395.50    62964.0   265304.00   \n",
       "\n",
       "                                                     \n",
       "                                                max  \n",
       "State/UnionTerritory                                 \n",
       "Andaman and Nicobar Islands                  4778.0  \n",
       "Andhra Pradesh                             872839.0  \n",
       "Arunachal Pradesh                           16437.0  \n",
       "Assam                                      214019.0  \n",
       "Bihar                                      239322.0  \n",
       "Cases being reassigned to states             9265.0  \n",
       "Chandigarh                                  18239.0  \n",
       "Chandigarh***                               15636.0  \n",
       "Chhattisgarh                               249699.0  \n",
       "Dadar Nagar Haveli                             26.0  \n",
       "Dadra and Nagar Haveli and Daman and Diu     3351.0  \n",
       "Daman & Diu                                     2.0  \n",
       "Delhi                                      597112.0  \n",
       "Goa                                         48935.0  \n",
       "Gujarat                                    221493.0  \n",
       "Haryana                                    246679.0  \n",
       "Himachal Pradesh                            46201.0  \n",
       "Jammu and Kashmir                          114038.0  \n",
       "Jharkhand                                  110639.0  \n",
       "Karnataka                                  895284.0  \n",
       "Kerala                                     644696.0  \n",
       "Ladakh                                       8969.0  \n",
       "Madhya Pradesh                             217302.0  \n",
       "Maharashtra                               1859367.0  \n",
       "Maharashtra***                            1723135.0  \n",
       "Manipur                                     26396.0  \n",
       "Meghalaya                                   12410.0  \n",
       "Mizoram                                      3977.0  \n",
       "Nagaland                                    11479.0  \n",
       "Odisha                                     321913.0  \n",
       "Puducherry                                  37311.0  \n",
       "Punjab                                     157331.0  \n",
       "Punjab***                                  140605.0  \n",
       "Rajasthan                                  284116.0  \n",
       "Sikkim                                       5215.0  \n",
       "Tamil Nadu                                 792788.0  \n",
       "Telangana                                   54059.0  \n",
       "Telangana***                                52466.0  \n",
       "Telengana                                  275261.0  \n",
       "Telengana***                                57142.0  \n",
       "Tripura                                     32945.0  \n",
       "Unassigned                                     77.0  \n",
       "Uttar Pradesh                              558173.0  \n",
       "Uttarakhand                                 79141.0  \n",
       "West Bengal                                507995.0  "
      ]
     },
     "execution_count": 24,
     "metadata": {},
     "output_type": "execute_result"
    }
   ],
   "source": [
    "print(\"Statewise Summary statistics of confirmed cases\")\n",
    "df.groupby(['State/UnionTerritory'])[['Confirmed']].describe()"
   ]
  }
 ],
 "metadata": {
  "kernelspec": {
   "display_name": "Python 3",
   "language": "python",
   "name": "python3"
  },
  "language_info": {
   "codemirror_mode": {
    "name": "ipython",
    "version": 3
   },
   "file_extension": ".py",
   "mimetype": "text/x-python",
   "name": "python",
   "nbconvert_exporter": "python",
   "pygments_lexer": "ipython3",
   "version": "3.7.7"
  }
 },
 "nbformat": 4,
 "nbformat_minor": 4
}
